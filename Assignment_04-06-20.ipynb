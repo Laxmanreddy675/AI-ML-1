{
 "cells": [
  {
   "cell_type": "markdown",
   "metadata": {},
   "source": [
    "# Assignmnet 04-06-20"
   ]
  },
  {
   "cell_type": "markdown",
   "metadata": {},
   "source": [
    "# CSE-221710305032-M.Sai Srinivas"
   ]
  },
  {
   "cell_type": "markdown",
   "metadata": {},
   "source": [
    "Question 1:<br>[Reversing an Array] <br>Write a NumPy program to reverse an array (first element becomes last). <br>Original array:<br>[12 13 14 15 16 17 18 19 20 21 22 23 24 25 26 27 28 29 30 31 32 33 34 35 36 37]<br>Reverse array:<br>[37 36 35 34 33 32 31 30 29 28 27 26 25 24 23 22 21 20 19 18 17 16 15 14 13 12]\n"
   ]
  },
  {
   "cell_type": "code",
   "execution_count": 3,
   "metadata": {},
   "outputs": [
    {
     "name": "stdout",
     "output_type": "stream",
     "text": [
      "original Array:\n",
      " [12 13 14 15 16 17 18 19 20 21 22 23 24 25 26 27 28 29 30 31 32 33 34 35\n",
      " 36 37]\n",
      "Reverse Array:\n",
      " [37 36 35 34 33 32 31 30 29 28 27 26 25 24 23 22 21 20 19 18 17 16 15 14\n",
      " 13 12]\n"
     ]
    }
   ],
   "source": [
    "import numpy as np\n",
    "array=np.arange(12,38)\n",
    "rev_array=array[::-1]\n",
    "print(\"original Array:\\n\",array)\n",
    "print(\"Reverse Array:\\n\",rev_array)"
   ]
  },
  {
   "cell_type": "markdown",
   "metadata": {},
   "source": [
    "Question 2:<br>[Make Border 1] <br>Write a NumPy program to create a 2d array with 1 on the border and 0 inside. <br>Original array:<br>[[ 1. 1. 1. 1. 1.]<br>...................<br>[ 1. 1. 1. 1. 1.]]<br>1 on the border and 0 inside in the array<br>Expected output:<br>[[ 1. 1. 1. 1. 1.]<br> [1. 0. 0. 0. 1.]<br>……………..<br> [1. 0. 0. 0. 1.]<br>[ 1. 1. 1. 1. 1.]]\n"
   ]
  },
  {
   "cell_type": "code",
   "execution_count": 26,
   "metadata": {},
   "outputs": [
    {
     "name": "stdout",
     "output_type": "stream",
     "text": [
      "Enter rows and colums: 5 8\n",
      "[[1. 1. 1. 1. 1. 1. 1. 1.]\n",
      " [1. 0. 0. 0. 0. 0. 0. 1.]\n",
      " [1. 0. 0. 0. 0. 0. 0. 1.]\n",
      " [1. 0. 0. 0. 0. 0. 0. 1.]\n",
      " [1. 1. 1. 1. 1. 1. 1. 1.]]\n"
     ]
    }
   ],
   "source": [
    "m,n=input(\"Enter rows and colums: \").split()\n",
    "array=np.ones((int(m),int(n)))\n",
    "array[1:-1,1:-1]=0\n",
    "print(array)"
   ]
  },
  {
   "cell_type": "markdown",
   "metadata": {},
   "source": [
    "Question 3:<br>[Membership Test] <br>Write a NumPy program to test whether each element of a 1-D array is also present in a second array.<br>Expected Output:<br>Array1: [ 0 10 20 40 60]<br>Array2: [0, 40]<br>Compare each element of array1 and array2<br>[ True False False True False]\n"
   ]
  },
  {
   "cell_type": "code",
   "execution_count": 31,
   "metadata": {},
   "outputs": [
    {
     "name": "stdout",
     "output_type": "stream",
     "text": [
      "enter array1: 0 10 20 40 60\n",
      "enter array2: 0 40\n",
      "[ True False False  True False]\n"
     ]
    }
   ],
   "source": [
    "ar1=input(\"enter array1: \").split()\n",
    "ar1=[int(i) for i in ar1]\n",
    "ar2=input(\"enter array2: \").split()\n",
    "ar2=[int(i) for i in ar2]\n",
    "arr1=np.array(ar1)\n",
    "arr2=np.array(ar2)\n",
    "f=np.vectorize(lambda x:x in arr2)\n",
    "print(f(arr1))"
   ]
  },
  {
   "cell_type": "markdown",
   "metadata": {},
   "source": [
    "Question 4:<br>[Set Difference] <br>Write a NumPy program to find the set difference of two arrays. The set difference will return the sorted, unique values in array1 that are not in array2.<br>Expected Output:<br>Array1: [ 0 10 20 40 60 80]<br>Array2: [10, 30, 40, 50, 70, 90]<br>Set difference between two arrays:<br>[ 0 20 60 80]\n"
   ]
  },
  {
   "cell_type": "code",
   "execution_count": 38,
   "metadata": {},
   "outputs": [
    {
     "name": "stdout",
     "output_type": "stream",
     "text": [
      "enter array1: 0 10 20 40 60 80\n",
      "enter array2: 10 30 40 50 70 90\n",
      "[ 0 20 60 80]\n"
     ]
    }
   ],
   "source": [
    "ar1=input(\"enter array1: \").split()\n",
    "ar1=[int(i) for i in ar1]\n",
    "ar2=input(\"enter array2: \").split()\n",
    "ar2=[int(i) for i in ar2]\n",
    "arr1=np.array(ar1)\n",
    "arr2=np.array(ar2)\n",
    "f=np.vectorize(lambda x:x not in arr2)\n",
    "print(arr1[f(arr1)])"
   ]
  },
  {
   "cell_type": "markdown",
   "metadata": {},
   "source": [
    "Question 5:<br>[Formation of Diagonal Matrix] <br>Write a NumPy program to create a 2-D array whose diagonal equals [4, 5, 6, 8] and 0's elsewhere.<br>Expected Output:<br>[[4 0 0 0]<br>[0 5 0 0]<br>[0 0 6 0]<br>[0 0 0 8]]"
   ]
  },
  {
   "cell_type": "code",
   "execution_count": 56,
   "metadata": {},
   "outputs": [
    {
     "name": "stdout",
     "output_type": "stream",
     "text": [
      "Enter values: 4 5 6 8\n",
      "[[4 0 0 0]\n",
      " [0 5 0 0]\n",
      " [0 0 6 0]\n",
      " [0 0 0 8]]\n"
     ]
    }
   ],
   "source": [
    "lis=input(\"Enter values: \").split()\n",
    "lis=[int(i) for i in lis]\n",
    "ar=np.array(lis)\n",
    "print(np.diag(ar))"
   ]
  }
 ],
 "metadata": {
  "kernelspec": {
   "display_name": "Python 3",
   "language": "python",
   "name": "python3"
  },
  "language_info": {
   "codemirror_mode": {
    "name": "ipython",
    "version": 3
   },
   "file_extension": ".py",
   "mimetype": "text/x-python",
   "name": "python",
   "nbconvert_exporter": "python",
   "pygments_lexer": "ipython3",
   "version": "3.7.4"
  }
 },
 "nbformat": 4,
 "nbformat_minor": 2
}
