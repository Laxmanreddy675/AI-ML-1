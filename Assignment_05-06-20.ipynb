{
 "cells": [
  {
   "cell_type": "markdown",
   "metadata": {},
   "source": [
    "# Assignment 05-06-20"
   ]
  },
  {
   "cell_type": "markdown",
   "metadata": {},
   "source": [
    "# CSE-221710305032-M.Sai Srinivas"
   ]
  },
  {
   "cell_type": "markdown",
   "metadata": {},
   "source": [
    "Question 1:<br>[Data Series] <br>Write a Python program to add, subtract, multiple and divide two Pandas Series. <br>Sample Series: <br>[2, 4, 6, 8, 10], [1, 3, 5, 7, 9]<br>Sample Output:<br>[2, 4, 6, 8, 10] + [1, 3, 5, 7, 9] = [3, 7, 11, 15, 19]"
   ]
  },
  {
   "cell_type": "code",
   "execution_count": 9,
   "metadata": {},
   "outputs": [
    {
     "name": "stdout",
     "output_type": "stream",
     "text": [
      "Enter 1st list: 2 4 6 8 10\n",
      "Enter 2nd list: 1 3 5 7 9\n",
      "1st Series:\n",
      " 0     2\n",
      "1     4\n",
      "2     6\n",
      "3     8\n",
      "4    10\n",
      "dtype: int64\n",
      "2nd Series:\n",
      " 0    1\n",
      "1    3\n",
      "2    5\n",
      "3    7\n",
      "4    9\n",
      "dtype: int64\n",
      "Addition of Series:\n",
      " 0     3\n",
      "1     7\n",
      "2    11\n",
      "3    15\n",
      "4    19\n",
      "dtype: int64\n",
      "Substraction of Series:\n",
      " 0    1\n",
      "1    1\n",
      "2    1\n",
      "3    1\n",
      "4    1\n",
      "dtype: int64\n",
      "Multiplication of Series:\n",
      " 0     2\n",
      "1    12\n",
      "2    30\n",
      "3    56\n",
      "4    90\n",
      "dtype: int64\n",
      "Division of Series:\n",
      " 0    2.000000\n",
      "1    1.333333\n",
      "2    1.200000\n",
      "3    1.142857\n",
      "4    1.111111\n",
      "dtype: float64\n"
     ]
    }
   ],
   "source": [
    "import pandas as pd\n",
    "lis=input(\"Enter 1st list: \").split()\n",
    "lis=[int(i) for i in lis]\n",
    "lis1=input(\"Enter 2nd list: \").split()\n",
    "lis1=[int(i) for i in lis1]\n",
    "s1=pd.Series(lis)\n",
    "s2=pd.Series(lis1)\n",
    "print(\"1st Series:\\n\",s1)\n",
    "print(\"2nd Series:\\n\",s2)\n",
    "print(\"Addition of Series:\\n\",s1+s2)\n",
    "print(\"Substraction of Series:\\n\",s1-s2)\n",
    "print(\"Multiplication of Series:\\n\",s1*s2)\n",
    "print(\"Division of Series:\\n\",s1/s2)"
   ]
  },
  {
   "cell_type": "markdown",
   "metadata": {},
   "source": [
    "Question 2:<br>[Quartiles] <br>Write a Pandas program to compute the minimum, 25th percentile, median, 75th, and maximum of a given series. <br>Sample Output:<br>Original Series:<br>0 3.000938<br>1 11.370722<br>2 14.612143<br>3 8.990256<br>4 13.925283<br>5 12.056875<br>.... 17 14.118931<br>18 8.247458<br>19 5.526727<br>dtype: float64<br>Minimum, 25th percentile, median, 75th, and maximum of a given series:<br>[ 3.00093811 8.09463867 10.23353705 12.21537733 14.61214321]\n"
   ]
  },
  {
   "cell_type": "code",
   "execution_count": 16,
   "metadata": {},
   "outputs": [
    {
     "name": "stdout",
     "output_type": "stream",
     "text": [
      "Original Series:\n",
      "0      3.000938\n",
      "1     11.370722\n",
      "2     14.612143\n",
      "3      8.990256\n",
      "4     13.925283\n",
      "5     12.056875\n",
      "6     10.884719\n",
      "7      5.719827\n",
      "8      9.242017\n",
      "9     11.020006\n",
      "10     8.167892\n",
      "11    11.740654\n",
      "12     7.665620\n",
      "13    13.267388\n",
      "14    12.690883\n",
      "15     9.582355\n",
      "16     7.874878\n",
      "17    14.118931\n",
      "18     8.247458\n",
      "19     5.526727\n",
      "dtype: float64\n",
      "\n",
      "Minimum, 25th percentile, median, 75th, and maximum of a given series:\n",
      "[ 3.00093811  8.09463867 10.23353705 12.21537733 14.61214321]\n"
     ]
    }
   ],
   "source": [
    "import pandas as pd\n",
    "import numpy as np\n",
    "num_state = np.random.RandomState(100)\n",
    "num_series = pd.Series(num_state.normal(10, 4, 20))\n",
    "print(\"Original Series:\")\n",
    "print(num_series)\n",
    "result = np.percentile(num_series, q=[0, 25, 50, 75, 100])\n",
    "print(\"\\nMinimum, 25th percentile, median, 75th, and maximum of a given series:\")\n",
    "print(result)"
   ]
  },
  {
   "cell_type": "markdown",
   "metadata": {},
   "source": [
    "Question 3:<br>[List Difference] <br>Write a Pandas program to get the items of a given series not present in another given series. <br>Sample Output:<br>Original Series:<br>sr1:<br>0 1<br>1 2<br>2 3<br>3 4<br>4 5<br>dtype: int64<br>sr2:<br>0 2<br>1 4<br>2 6<br>3 8<br>4 10<br>dtype: int64<br>Items of sr1 not present in sr2:<br>0 1<br>2 3<br>4 5<br>dtype: int64\n"
   ]
  },
  {
   "cell_type": "code",
   "execution_count": 27,
   "metadata": {},
   "outputs": [
    {
     "name": "stdout",
     "output_type": "stream",
     "text": [
      "Enter 1st list: 1 2 3 4 5\n",
      "Enter 2nd list: 2 4 6 8 10\n",
      "Original Series:\n",
      "sr1:\n",
      "0    1\n",
      "1    2\n",
      "2    3\n",
      "3    4\n",
      "4    5\n",
      "dtype: int64\n",
      "sr2:\n",
      "0     2\n",
      "1     4\n",
      "2     6\n",
      "3     8\n",
      "4    10\n",
      "dtype: int64\n",
      "\n",
      "Items of sr1 not present in sr2:\n",
      "0    1\n",
      "2    3\n",
      "4    5\n",
      "dtype: int64\n"
     ]
    }
   ],
   "source": [
    "import pandas as pd\n",
    "lis=input(\"Enter 1st list: \").split()\n",
    "lis=[int(i) for i in lis]\n",
    "lis1=input(\"Enter 2nd list: \").split()\n",
    "lis1=[int(i) for i in lis1]\n",
    "sr1=pd.Series(lis)\n",
    "sr2=pd.Series(lis1)\n",
    "print(\"Original Series:\")\n",
    "print(\"sr1:\")\n",
    "print(sr1)\n",
    "print(\"sr2:\")\n",
    "print(sr2)\n",
    "print(\"\\nItems of sr1 not present in sr2:\")\n",
    "result = sr1[~sr1.isin(sr2)]\n",
    "print(result)"
   ]
  },
  {
   "cell_type": "markdown",
   "metadata": {},
   "source": [
    "Question 4:<br>[Filter Words with Multiple Vowels] <br>Write a Pandas program to filter words from a given series that contain at least two vowels. <br>Sample Output:<br>Original Series:<br>0 Red<br>1 Green<br>2 Orange<br>3 Pink<br>4 Yellow<br>5 White<br>dtype: object<br><br>Filtered words:<br>1 Green<br>2 Orange<br>4 Yellow<br>5 White<br>dtype: object"
   ]
  },
  {
   "cell_type": "code",
   "execution_count": 36,
   "metadata": {},
   "outputs": [
    {
     "name": "stdout",
     "output_type": "stream",
     "text": [
      "Enter 1st list: Red Green Orange Pink Yellow White\n",
      "Original Series:\n",
      "\n",
      "0       Red\n",
      "1     Green\n",
      "2    Orange\n",
      "3      Pink\n",
      "4    Yellow\n",
      "5     White\n",
      "dtype: object\n",
      "\n",
      "\n",
      "Filtered Series:\n",
      "\n",
      "1     Green\n",
      "2    Orange\n",
      "4    Yellow\n",
      "5     White\n",
      "dtype: object\n"
     ]
    }
   ],
   "source": [
    "import pandas as pd\n",
    "from collections import Counter\n",
    "lis=input(\"Enter 1st list: \").split()\n",
    "s1=pd.Series(lis)\n",
    "print(\"Original Series:\\n\")\n",
    "print(s1)\n",
    "res = mask = s1.map(lambda c: sum([Counter(c.lower()).get(i, 0) for i in list('aeiou')]) >= 2)\n",
    "print(\"\\n\\nFiltered Series:\\n\")\n",
    "print(s1[res])"
   ]
  },
  {
   "cell_type": "markdown",
   "metadata": {},
   "source": [
    "Question 5:<br>Consider the following as my DataFrame,Write a Pandas program to select the rows where the number of attempts in the examination is greater than 2."
   ]
  },
  {
   "cell_type": "code",
   "execution_count": 43,
   "metadata": {},
   "outputs": [
    {
     "name": "stdout",
     "output_type": "stream",
     "text": [
      "Original DataFrame:\n",
      "        name  score  attempts qualify\n",
      "a  Anastasia   12.5         1     yes\n",
      "b       Dima    9.0         3      no\n",
      "c  Katherine   16.5         2     yes\n",
      "d      James    NaN         3      no\n",
      "e      Emily    9.0         2      no\n",
      "f    Micheal   20.0         3     yes\n",
      "g    Matthew   14.5         1     yes\n",
      "h      Laura    NaN         1      no\n",
      "i      Kevin    8.0         2      no\n",
      "j      Joans   19.0         1      no\n",
      "\n",
      "Attempts Greater than 2\n",
      "      name  score  attempts qualify\n",
      "b     Dima    9.0         3      no\n",
      "d    James    NaN         3      no\n",
      "f  Micheal   20.0         3     yes\n"
     ]
    }
   ],
   "source": [
    "import pandas as pd\n",
    "na={'a':'Anastasia','b':'Dima','c':'Katherine','d':'James','e':'Emily','f':'Micheal','g':'Matthew','h':'Laura','i':'Kevin','j':'Joans'}\n",
    "sc={'a':12.5,'b':9,'c':16.5,'d':float(\"nan\"),'e':9,'f':20,'g':14.5,'h':float(\"nan\"),'i':8,'j':19}\n",
    "at={'a':1,'b':3,'c':2,'d':3,'e':2,'f':3,'g':1,'h':1,'i':2,'j':1}\n",
    "q={'a':'yes','b':'no','c':'yes','d':'no','e':'no','f':'yes','g':'yes','h':'no','i':'no','j':'no'}\n",
    "data={'name':na,'score':sc,'attempts':at,'qualify':q}\n",
    "df=pd.DataFrame(data)\n",
    "print(\"Original DataFrame:\")\n",
    "print(df)\n",
    "res=df['attempts']>2\n",
    "print(\"\\nAttempts Greater than 2\")\n",
    "print(df[res])"
   ]
  }
 ],
 "metadata": {
  "kernelspec": {
   "display_name": "Python 3",
   "language": "python",
   "name": "python3"
  },
  "language_info": {
   "codemirror_mode": {
    "name": "ipython",
    "version": 3
   },
   "file_extension": ".py",
   "mimetype": "text/x-python",
   "name": "python",
   "nbconvert_exporter": "python",
   "pygments_lexer": "ipython3",
   "version": "3.7.4"
  }
 },
 "nbformat": 4,
 "nbformat_minor": 2
}
