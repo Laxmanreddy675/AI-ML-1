{
 "cells": [
  {
   "cell_type": "markdown",
   "metadata": {},
   "source": [
    "# Assignment 03-06-20"
   ]
  },
  {
   "cell_type": "markdown",
   "metadata": {},
   "source": [
    "# CSE-221710305032-M.Sai Srinivas"
   ]
  },
  {
   "cell_type": "markdown",
   "metadata": {},
   "source": [
    "Question 1:<br>[Reverse] Copy the contents of a text file into another, printing the reversed version of each input line"
   ]
  },
  {
   "cell_type": "code",
   "execution_count": 89,
   "metadata": {},
   "outputs": [
    {
     "name": "stdout",
     "output_type": "stream",
     "text": [
      "Data in file:\n",
      "\n",
      "abcdefghijklmnopqrstuvwxyz\n",
      "ABCDEFGHIJKLMNOPQRSTUVWXYZ\n",
      "123456789\n",
      "Data in copied file:\n",
      "zyxwvutsrqponmlkjihgfedcba\n",
      "ZYXWVUTSRQPONMLKJIHGFEDCBA\n",
      "987654321\n",
      "\n"
     ]
    }
   ],
   "source": [
    "file=open(\"file.txt\",\"r\")\n",
    "file1=open(\"filecopy.txt\",\"a+\")\n",
    "print(\"Data in file:\\n\")\n",
    "for line in file:\n",
    "    line=line.rstrip()\n",
    "    print(line)\n",
    "    new=line[::-1]\n",
    "    new=new+\"\\n\"\n",
    "    file1.write(new)\n",
    "file1.close()\n",
    "file.close()\n",
    "file1=open(\"filecopy.txt\",\"r\")\n",
    "data=file1.read()\n",
    "print(\"Data in copied file:\\n\"+data)\n",
    "file1.close()"
   ]
  },
  {
   "cell_type": "markdown",
   "metadata": {},
   "source": [
    "Question 2:<br>[Number Lines] Print the contents of a file line by line putting a line number for each line."
   ]
  },
  {
   "cell_type": "code",
   "execution_count": 97,
   "metadata": {},
   "outputs": [
    {
     "name": "stdout",
     "output_type": "stream",
     "text": [
      "Data in file:\n",
      "\n",
      "abcdefghijklmnopqrstuvwxyz\n",
      "\n",
      "ABCDEFGHIJKLMNOPQRSTUVWXYZ\n",
      "\n",
      "123456789\n",
      "After Adding Index:\n",
      "1.abcdefghijklmnopqrstuvwxyz\n",
      "2.ABCDEFGHIJKLMNOPQRSTUVWXYZ\n",
      "3.123456789\n"
     ]
    }
   ],
   "source": [
    "file=open(\"file.txt\",\"r\")\n",
    "data=[]\n",
    "print(\"Data in file:\\n\")\n",
    "i=1\n",
    "for line in file:\n",
    "    print(line)\n",
    "    data.append(str(i)+\".\"+line)\n",
    "    i+=1\n",
    "file=open(\"file.txt\",\"w\")\n",
    "file.truncate(0)\n",
    "file.close()\n",
    "file=open(\"file.txt\",\"a\")\n",
    "for i in range(len(data)):\n",
    "    file.write(data[i])\n",
    "file.close()\n",
    "file=open(\"file.txt\",\"r\")\n",
    "d=file.read()\n",
    "print(\"After Adding Index:\\n\"+d)\n",
    "file.close()"
   ]
  },
  {
   "cell_type": "markdown",
   "metadata": {},
   "source": [
    "Question 3:<br>[deDuplicate] Avoiding Duplicates<br>In many situations, lists should not contain duplicate elements. For example, a pack of cards should not contain the same card twice. Define a function<br>duplicates (list): bool<br>which returns True if its argument contains duplicate elements.<br>\t\tduplicates [1,2,3,4,5]<br>\t\t\tFalse<br>\t\tduplicates [1,2,3,2]<br>\t\t\tTrue\n"
   ]
  },
  {
   "cell_type": "code",
   "execution_count": 154,
   "metadata": {},
   "outputs": [
    {
     "name": "stdout",
     "output_type": "stream",
     "text": [
      "1 12 2 23 3 34 4 45 5 56\n",
      "True\n"
     ]
    }
   ],
   "source": [
    "def duplicates(lis):\n",
    "    se=set()\n",
    "    for ele in lis:\n",
    "        se.add(ele)\n",
    "    lis.sort()\n",
    "    temp=list(se)\n",
    "    temp.sort()\n",
    "    if lis==temp:\n",
    "        return True\n",
    "    else:\n",
    "        return False\n",
    "\n",
    "lis=input().split()\n",
    "lis=[int(i) for i in lis]\n",
    "print(duplicates(lis))"
   ]
  },
  {
   "cell_type": "markdown",
   "metadata": {},
   "source": [
    "Question 4:<br>[fractions.py] Develop a package for fractions. Develop a module that performs operations on fractions. It should have methods to create fractions, perform operations on two fractions, simplify a fraction, and print a fraction. You should use that package and illustrate those operations."
   ]
  },
  {
   "cell_type": "code",
   "execution_count": 1,
   "metadata": {},
   "outputs": [
    {
     "name": "stdout",
     "output_type": "stream",
     "text": [
      "2/3 + 3/7 = 23/21\n",
      "2/3 - 3/7 = 5/21\n",
      "2/3 * 3/7 = 2/7\n",
      "2/3 / 3/7 = 14/9\n"
     ]
    }
   ],
   "source": [
    "import fraction as f\n",
    "f1=f.fraction_value(2,3)\n",
    "f2=f.fraction_value(3,7)\n",
    "print(f1,\"+\",f2,\"=\",f.add(f1,f2))\n",
    "print(f1,\"-\",f2,\"=\",f.sub(f1,f2))\n",
    "print(f1,\"*\",f2,\"=\",f.mul(f1,f2))\n",
    "print(f1,\"/\",f2,\"=\",f.div(f1,f2))"
   ]
  },
  {
   "cell_type": "markdown",
   "metadata": {},
   "source": [
    "Question 5:<br>[Permutations] <br>A permutation of a list is another list with the same elements, but in a possibly different order. For example, [1,2,1] is a permutation of [2,1,1], but not of [1,2,2]. Write a function<br>isPermutation (list1, list2): bool<br>that returns True if its arguments are permutations of each other.\n"
   ]
  },
  {
   "cell_type": "code",
   "execution_count": 3,
   "metadata": {},
   "outputs": [
    {
     "name": "stdout",
     "output_type": "stream",
     "text": [
      "Enter 1st list: 1 2 1\n",
      "Enter 2nd list: 2 1 1\n",
      "True\n"
     ]
    }
   ],
   "source": [
    "def isPermutation(list1,list2):\n",
    "    list1.sort()\n",
    "    list2.sort()\n",
    "    if list1==list2:\n",
    "        return True\n",
    "    else:\n",
    "        return False\n",
    "\n",
    "list1=input(\"Enter 1st list: \").split()\n",
    "list1=[int(i) for i in list1]\n",
    "list2=input(\"Enter 2nd list: \").split()\n",
    "list2=[int(i) for i in list2]\n",
    "print(isPermutation(list1,list2))"
   ]
  }
 ],
 "metadata": {
  "kernelspec": {
   "display_name": "Python 3",
   "language": "python",
   "name": "python3"
  },
  "language_info": {
   "codemirror_mode": {
    "name": "ipython",
    "version": 3
   },
   "file_extension": ".py",
   "mimetype": "text/x-python",
   "name": "python",
   "nbconvert_exporter": "python",
   "pygments_lexer": "ipython3",
   "version": "3.7.4"
  }
 },
 "nbformat": 4,
 "nbformat_minor": 2
}
