{
 "cells": [
  {
   "cell_type": "code",
   "execution_count": 15,
   "metadata": {},
   "outputs": [],
   "source": [
    "import random\n",
    "adj=[\"Adorable\",\"Delightful\",\"Homely\",\"Quaint\",\"Adventurous\",\"Depressed\",\"Horrible\",\"Aggressive\",\"Determined\",\"Hungry\",\"Real\",\n",
    "     \"Agreeable\",\"Different\",\"Hurt\",\"Relieved\",\"Alert\",\"Difficult\",\"Repulsive\",\"Alive\",\"Disgusted\",\"Ill\",\"Rich\",\"Amused\",\n",
    "     \"Distinct\",\"Important\",\"Angry\",\"Disturbed\",\"Impossible\",\"Scary\",\"Annoyed\",\"Dizzy\",\"Inexpensive\",\"Selfish\",\"Annoying\",\n",
    "     \"Doubtful\",\"Innocent\",\"Shiny\",\"Anxious\",\"Drab\",\"Inquisitive\",\"Shy\",\"Arrogant\",\"Dull\",\"Itchy\",\"Silly\",\"Ashamed\",\"Sleepy\",\n",
    "     \"Attractive\",\"Eager\",\"Jealous\",\"Smiling\",\"Average\",\"Easy\",\"Jittery\",\"Smoggy\",\"Awful\",\"Elated\",\"Jolly\",\"Sore\",\"Elegant\",\n",
    "     \"Joyous\",\"Sparkling\",\"Bad\",\"Embarrassed\",\"Splendid\",\"Beautiful\",\"Enchanting\",\"Kind\",\"Spotless\",\"Better\"]\n",
    "noun=[\"Actor\",\"Gold\",\"Painting\",\"Advertisement\",\"Grass\",\"Parrot\",\"Afternoon\",\"Greece\",\"Pencil\",\"Airport\",\"Guitar\",\"Piano\",\n",
    "      \"Ambulance\",\"Hair\",\"Pillow\",\"Animal\",\"Hamburger\",\"Pizza\",\"Answer\",\"Helicopter\",\"Planet\",\"Apple\",\"Helmet\",\"Plastic\",\"Army\",\n",
    "      \"Holiday\",\"Portugal\",\"Australia\",\"Honey\",\"Potato\",\"Balloon\",\"Horse\",\"Queen\",\"Banana\",\"Hospital\",\"Quill\",\"Battery\",\n",
    "      \"House\",\"Rain\",\"Beach\",\"Hydrogen\",\"Rainbow\",\"Beard\",\"Ice\",\"Raincoat\",\"Bed\",\"Insect\",\"Refrigerator\",\"Belgium\",\n",
    "      \"Insurance\",\"Restaurant\",\"Boy\",\"Iron\",\"River\",\"Branch\",\"Island\",\"Rocket\",\"Breakfast\",\"Jackal\",\"Room\",\"Brother\",\"Jelly\",\n",
    "      \"Rose\",\"Camera\",\"Jewellery\",\"Russia\",\"Candle\",\"Jordan\",\"Sandwich\",\"Car\",\"Juice\",\"School\",\"Caravan\",\"Kangaroo\",\"Scooter\"]\n",
    "punmark=['!','@','#','$','%','^','&','*','(',')','-','_','{','}','\"',\"'\",':',';',',','.','/','\\\\','|','<','>','?']"
   ]
  },
  {
   "cell_type": "code",
   "execution_count": 24,
   "metadata": {},
   "outputs": [
    {
     "name": "stdout",
     "output_type": "stream",
     "text": [
      "AmusedApple}18\n",
      "Do you want to see Another Password(y/n): y\n",
      "ShinyAmbulance_9\n",
      "Do you want to see Another Password(y/n): Y\n",
      "EnchantingQuill#54\n",
      "Do you want to see Another Password(y/n): N\n"
     ]
    }
   ],
   "source": [
    "while True:\n",
    "    num=random.randint(0,100)\n",
    "    password=random.choice(adj)+random.choice(noun)+random.choice(punmark)+str(num)\n",
    "    print(password)\n",
    "    inp=input(\"Do you want to see Another Password(y/n): \").lower()\n",
    "    if inp=='n':\n",
    "        break;"
   ]
  }
 ],
 "metadata": {
  "kernelspec": {
   "display_name": "Python 3",
   "language": "python",
   "name": "python3"
  },
  "language_info": {
   "codemirror_mode": {
    "name": "ipython",
    "version": 3
   },
   "file_extension": ".py",
   "mimetype": "text/x-python",
   "name": "python",
   "nbconvert_exporter": "python",
   "pygments_lexer": "ipython3",
   "version": "3.7.4"
  }
 },
 "nbformat": 4,
 "nbformat_minor": 2
}
