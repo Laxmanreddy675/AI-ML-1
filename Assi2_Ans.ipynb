{
 "cells": [
  {
   "cell_type": "markdown",
   "metadata": {},
   "source": [
    "# Day 2 Assignment(27-05-2020)"
   ]
  },
  {
   "cell_type": "markdown",
   "metadata": {},
   "source": [
    "1. Generate the following pattern * * * * * * * * * * * * * * *"
   ]
  },
  {
   "cell_type": "code",
   "execution_count": 8,
   "metadata": {},
   "outputs": [
    {
     "name": "stdout",
     "output_type": "stream",
     "text": [
      "enter the number of rows 4\n",
      "* \n",
      "* * \n",
      "* * * \n",
      "* * * * \n"
     ]
    }
   ],
   "source": [
    "n=int(input(\"enter the number of rows \"))\n",
    "for i in range(1,n+1):\n",
    "    for j in range(0,i):\n",
    "        print(\"*\",end=\" \")\n",
    "    print()"
   ]
  },
  {
   "cell_type": "markdown",
   "metadata": {},
   "source": [
    "2. Display multiplication table of K. Take k value from user Ex: 7 x 1 =7 7 x 2 = 14 ....."
   ]
  },
  {
   "cell_type": "code",
   "execution_count": 9,
   "metadata": {},
   "outputs": [
    {
     "name": "stdout",
     "output_type": "stream",
     "text": [
      "enter the number for multiplication table 7\n",
      "7  *  1  =  7\n",
      "7  *  2  =  14\n",
      "7  *  3  =  21\n",
      "7  *  4  =  28\n",
      "7  *  5  =  35\n",
      "7  *  6  =  42\n",
      "7  *  7  =  49\n",
      "7  *  8  =  56\n",
      "7  *  9  =  63\n",
      "7  *  10  =  70\n"
     ]
    }
   ],
   "source": [
    "k =int(input(\"enter the number for multiplication table \"))\n",
    "for i in range(1,11):\n",
    "    print(k,\" * \",i,\" = \",k*i)"
   ]
  },
  {
   "cell_type": "markdown",
   "metadata": {},
   "source": [
    "3. Roots of quadratic equation Take the coefficients a,b,c from the user\n"
   ]
  },
  {
   "cell_type": "code",
   "execution_count": 10,
   "metadata": {},
   "outputs": [
    {
     "name": "stdout",
     "output_type": "stream",
     "text": [
      "a coefficient 1\n",
      "b coefficient -18\n",
      "c coefficient 45\n",
      "roots are  15.0  and  3.0\n"
     ]
    }
   ],
   "source": [
    "import math\n",
    "a=int(input(\"a coefficient \"))\n",
    "b=int(input(\"b coefficient \"))\n",
    "c=int(input(\"c coefficient \"))\n",
    "print(\"roots are \",(-b+math.sqrt(b**2 -4*a*c))/2*a,\" and \",(-b-math.sqrt(b**2 -4*a*c))/2*a)\n"
   ]
  },
  {
   "cell_type": "markdown",
   "metadata": {},
   "source": [
    "4. Convert a decimal number to Binary"
   ]
  },
  {
   "cell_type": "code",
   "execution_count": 11,
   "metadata": {},
   "outputs": [
    {
     "name": "stdout",
     "output_type": "stream",
     "text": [
      "enter a decimal value 15\n",
      "1111\n"
     ]
    }
   ],
   "source": [
    "n=int(input(\"enter a decimal value \"))\n",
    "bin=\"\"\n",
    "while(n>0):\n",
    "    bin+=str(n%2)\n",
    "    n=n//2\n",
    "print(bin[::-1])"
   ]
  },
  {
   "cell_type": "markdown",
   "metadata": {},
   "source": [
    "5. Generate first N number of Fibonacci numbers. Take N value from the user"
   ]
  },
  {
   "cell_type": "code",
   "execution_count": 12,
   "metadata": {},
   "outputs": [
    {
     "name": "stdout",
     "output_type": "stream",
     "text": [
      "enter the number 5\n",
      "0 1 1 2 3 "
     ]
    }
   ],
   "source": [
    "n=int(input(\"enter the number \"))\n",
    "f1=0\n",
    "f2=1\n",
    "if(n==0):\n",
    "    print(0)\n",
    "elif(n==1):\n",
    "    print(f1)\n",
    "else:\n",
    "    print(f1,f2,end=\" \")\n",
    "    sum=0\n",
    "    for i in range(2,n):\n",
    "        sum=f1+f2\n",
    "        f1=f2\n",
    "        f2=sum\n",
    "        print(f2,end=\" \")"
   ]
  }
 ],
 "metadata": {
  "kernelspec": {
   "display_name": "Python 3",
   "language": "python",
   "name": "python3"
  },
  "language_info": {
   "codemirror_mode": {
    "name": "ipython",
    "version": 3
   },
   "file_extension": ".py",
   "mimetype": "text/x-python",
   "name": "python",
   "nbconvert_exporter": "python",
   "pygments_lexer": "ipython3",
   "version": "3.7.4"
  }
 },
 "nbformat": 4,
 "nbformat_minor": 2
}
