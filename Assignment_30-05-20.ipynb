{
 "cells": [
  {
   "cell_type": "markdown",
   "metadata": {},
   "source": [
    "# Assignment 30-05-20"
   ]
  },
  {
   "cell_type": "markdown",
   "metadata": {},
   "source": [
    "# CSE-221710305032-M.Sai Srinivas"
   ]
  },
  {
   "cell_type": "markdown",
   "metadata": {},
   "source": [
    "Question 1:<br>Count the no.of words,no.of letters,no.of lines available in your file"
   ]
  },
  {
   "cell_type": "code",
   "execution_count": 16,
   "metadata": {},
   "outputs": [
    {
     "name": "stdout",
     "output_type": "stream",
     "text": [
      "No. of lines:  10 \n",
      "No. of words:  48 \n",
      "No. of letters:  238\n"
     ]
    }
   ],
   "source": [
    "handle=open(\"ba_git.txt\")\n",
    "lc=0\n",
    "word=[]\n",
    "words=[]\n",
    "ll=0\n",
    "for line in handle:\n",
    "    lc+=1\n",
    "    line.strip()\n",
    "    word=line.split()\n",
    "    for w in word:\n",
    "        ll+=len(w)\n",
    "        words.append(w)\n",
    "print(\"No. of lines: \",lc,\"\\nNo. of words: \",len(words),\"\\nNo. of letters: \",ll)"
   ]
  },
  {
   "cell_type": "markdown",
   "metadata": {},
   "source": [
    "Question 2:<br>Copy the content of one file to another"
   ]
  },
  {
   "cell_type": "code",
   "execution_count": 22,
   "metadata": {},
   "outputs": [
    {
     "name": "stdout",
     "output_type": "stream",
     "text": [
      "Data in the ba_git.txt\n",
      "\n",
      "\n",
      "1. git init -- Initialize the Empty git repositary\n",
      "\t2. git status\n",
      "\t3. git add <FileName>\n",
      "\t4. git status\n",
      "\t5. git config --global user.email 'YourEmailID'\n",
      "\t6. git config --global user.name 'YourName'\n",
      "\t7. git config user.email\n",
      "\t8. git config user.name\n",
      "\t9. git commit -m \"First Commit\"\n",
      "\t10. git log\n",
      "\n",
      "Data in the copy.txt\n",
      "\n",
      "\n",
      "1. git init -- Initialize the Empty git repositary\n",
      "\t2. git status\n",
      "\t3. git add <FileName>\n",
      "\t4. git status\n",
      "\t5. git config --global user.email 'YourEmailID'\n",
      "\t6. git config --global user.name 'YourName'\n",
      "\t7. git config user.email\n",
      "\t8. git config user.name\n",
      "\t9. git commit -m \"First Commit\"\n",
      "\t10. git log\n",
      "\n"
     ]
    }
   ],
   "source": [
    "f_main=open(\"ba_git.txt\",\"r\")\n",
    "data=f_main.read()\n",
    "print(\"Data in the ba_git.txt\\n\\n\")\n",
    "print(data)\n",
    "f_copy=open(\"copy.txt\",\"w+\")\n",
    "f_copy.write(data)\n",
    "f_copy.close()\n",
    "f_main.close()\n",
    "f_copy=open(\"copy.txt\",\"r\")\n",
    "print(\"Data in the copy.txt\\n\\n\")\n",
    "data1=f_copy.read()\n",
    "print(data1)"
   ]
  },
  {
   "cell_type": "markdown",
   "metadata": {},
   "source": [
    "Question 3:<br>Display the words starting with letter 'p'"
   ]
  },
  {
   "cell_type": "code",
   "execution_count": 28,
   "metadata": {},
   "outputs": [
    {
     "name": "stdout",
     "output_type": "stream",
     "text": [
      "['p', 'parrot', 'pegion', 'peacock', 'pegion', 'peacock', 'parrot', 'peacock', 'pull', 'push']\n"
     ]
    }
   ],
   "source": [
    "a='''hi p ,your words are\n",
    "i'm parrot\n",
    "i'm pegion\n",
    "i'm peacock\n",
    "pegion , peacock , parrot are freinds\n",
    "friendl peacock\n",
    "a man can pull or push\n",
    "'''\n",
    "file=open(\"p_words.txt\",\"w+\")\n",
    "file.write(a)\n",
    "file.close()\n",
    "file=open(\"p_words.txt\",\"r\")\n",
    "words=[]\n",
    "p_words=[]\n",
    "for line in file:\n",
    "    line.strip()\n",
    "    for w in line.split():\n",
    "        if w.startswith(\"p\"):\n",
    "            p_words.append(w)\n",
    "print(p_words)\n",
    "file.close()"
   ]
  },
  {
   "cell_type": "markdown",
   "metadata": {},
   "source": [
    "Question 4:<br>Rename and remove files"
   ]
  },
  {
   "cell_type": "code",
   "execution_count": 1,
   "metadata": {},
   "outputs": [],
   "source": [
    "import os\n",
    "os.rename(\"p_words.txt\",\"rename.txt\")\n",
    "os.remove(\"rename.txt\")"
   ]
  },
  {
   "cell_type": "markdown",
   "metadata": {},
   "source": [
    "Question 5:<br>Create a folder<br>Goto that folder and create 5 no.of files<br>All the file names should be unique<br>Add some content into the file and the content in all the files should be unique<br>File size should be 512bits"
   ]
  },
  {
   "cell_type": "code",
   "execution_count": 3,
   "metadata": {},
   "outputs": [],
   "source": [
    "import os\n",
    "f1=open(\"Assignment/f1.txt\",\"w+\")\n",
    "f2=open(\"Assignment/f2.txt\",\"w+\")\n",
    "f3=open(\"Assignment/f3.txt\",\"w+\")\n",
    "f4=open(\"Assignment/f4.txt\",\"w+\")\n",
    "f5=open(\"Assignment/f5.txt\",\"w+\")\n",
    "f1.write('''Hi.. This is file 1\n",
    "Say hello to file 1''' )\n",
    "f2.write('''Hi.. This is file 2\n",
    "Say hii to file 2''' )\n",
    "f3.write('''Hi.. This is file 3\n",
    "Say Chesse to file 3''' )\n",
    "f4.write('''Hi.. This is file 4\n",
    "Say dude to file 4''' )\n",
    "f5.write('''Hi.. This is file 5\n",
    "Say Brooo to file 5''' )\n",
    "f1.close()\n",
    "f2.close()\n",
    "f3.close()\n",
    "f4.close()\n",
    "f5.close()"
   ]
  },
  {
   "cell_type": "code",
   "execution_count": null,
   "metadata": {},
   "outputs": [],
   "source": [
    "9"
   ]
  }
 ],
 "metadata": {
  "kernelspec": {
   "display_name": "Python 3",
   "language": "python",
   "name": "python3"
  },
  "language_info": {
   "codemirror_mode": {
    "name": "ipython",
    "version": 3
   },
   "file_extension": ".py",
   "mimetype": "text/x-python",
   "name": "python",
   "nbconvert_exporter": "python",
   "pygments_lexer": "ipython3",
   "version": "3.7.4"
  }
 },
 "nbformat": 4,
 "nbformat_minor": 2
}
