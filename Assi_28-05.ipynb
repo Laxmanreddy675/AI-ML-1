{
 "cells": [
  {
   "cell_type": "markdown",
   "metadata": {},
   "source": [
    "# Assignment for 28-05-2020\n"
   ]
  },
  {
   "cell_type": "markdown",
   "metadata": {},
   "source": [
    "Question 1:<br>Accept a string from the user and count no.of vowels,consonants and special characters"
   ]
  },
  {
   "cell_type": "code",
   "execution_count": 37,
   "metadata": {},
   "outputs": [
    {
     "name": "stdout",
     "output_type": "stream",
     "text": [
      "Enter a string: sai srinivsa@\n",
      "vowel count: 5 \n",
      "consonants count:  6 \n",
      "special count: 2\n"
     ]
    }
   ],
   "source": [
    "inp=input(\"Enter a string: \")\n",
    "vc=0\n",
    "cc=0\n",
    "ss=0\n",
    "inp.lower()\n",
    "for i in inp:\n",
    "    if i in 'aeiou':\n",
    "        vc+=1\n",
    "    elif i>='a' and i<='z':\n",
    "        cc+=1\n",
    "    else:\n",
    "        ss+=1\n",
    "print(\"vowel count:\",vc,\"\\nconsonants count: \",cc,\"\\nspecial count:\",ss)"
   ]
  },
  {
   "cell_type": "markdown",
   "metadata": {},
   "source": [
    "Question 2:<br>count the no.of pairs of a in the given string(Infosys InfyTQ)<br>string → \"abbaaccbbaaa\"<br>output →  2\n"
   ]
  },
  {
   "cell_type": "code",
   "execution_count": 11,
   "metadata": {},
   "outputs": [
    {
     "name": "stdout",
     "output_type": "stream",
     "text": [
      "Enter a String: abbaaccbbaaa\n",
      "2\n"
     ]
    }
   ],
   "source": [
    "inp=input(\"Enter a String: \")\n",
    "c=0\n",
    "c1=0\n",
    "p=0\n",
    "for i in inp:\n",
    "    if i=='a' and c==0:\n",
    "        c=1\n",
    "    elif i=='a' and c==1:\n",
    "        c=0\n",
    "        p=p+1\n",
    "    else:\n",
    "        c=0\n",
    "print(p)"
   ]
  },
  {
   "cell_type": "markdown",
   "metadata": {},
   "source": [
    "Question 3:<br>Test case1:<br>string →  \"((((()()()))))()\"<br>output →  8<br>Test case2:<br>string →  \"((()))()\"<br>Output →  4\n"
   ]
  },
  {
   "cell_type": "code",
   "execution_count": 13,
   "metadata": {},
   "outputs": [
    {
     "name": "stdout",
     "output_type": "stream",
     "text": [
      "Enter a String: ((((()()()))))()\n",
      "8\n"
     ]
    }
   ],
   "source": [
    "inp=input(\"Enter a String: \")\n",
    "c=0\n",
    "c1=0\n",
    "p=0\n",
    "for i in inp:\n",
    "    if i=='(':\n",
    "        c+=1\n",
    "    elif i==')' and c>0:\n",
    "        c-=1\n",
    "        p=p+1\n",
    "print(p)"
   ]
  },
  {
   "cell_type": "markdown",
   "metadata": {},
   "source": [
    "Question 4:\n",
    "\n",
    "Read the input as two limits and Print the output as Palindrome count between the two limits<br>Example #1;<br>Input : 1 10<br>Output : 9<br>Example #2:<br>Input : 1 100<br>Output : 18"
   ]
  },
  {
   "cell_type": "code",
   "execution_count": 31,
   "metadata": {},
   "outputs": [
    {
     "name": "stdout",
     "output_type": "stream",
     "text": [
      "Enter limits: 1 100\n",
      "18\n"
     ]
    }
   ],
   "source": [
    "i,j=input(\"Enter limits: \").split()\n",
    "s=int(i)\n",
    "e=int(j)\n",
    "count = 0\n",
    "for i in range(s, e + 1)\n",
    "    if str(i) == str(i)[::-1]:\n",
    "        count += 1\n",
    "print(count)"
   ]
  },
  {
   "cell_type": "markdown",
   "metadata": {},
   "source": [
    "Question 5:\n",
    "\n",
    " Accept a number as an input and check whether the given number is palindrome or not\n",
    "if it is a palindrome number print the number on the screen\n",
    "if it is not a palindrome number reverse that number and add it to previous number repeat this until will get a palindrome number and print that palindrome number on the screen\n",
    "input: 127\n",
    "output: 848\n"
   ]
  },
  {
   "cell_type": "code",
   "execution_count": 12,
   "metadata": {},
   "outputs": [
    {
     "name": "stdout",
     "output_type": "stream",
     "text": [
      "Enter limits: 127\n",
      "848\n"
     ]
    }
   ],
   "source": [
    "n=int(input(\"Enter limits: \"))\n",
    "c=0\n",
    "while c==0:\n",
    "    t=0\n",
    "    v=n\n",
    "    while n>0:\n",
    "        r=n%10\n",
    "        t=(t*10)+r\n",
    "        n=n//10\n",
    "    if t==v:\n",
    "        c=1\n",
    "        break\n",
    "    n=v+t\n",
    "print(t)"
   ]
  },
  {
   "cell_type": "markdown",
   "metadata": {},
   "source": [
    "Question 6:\n",
    "input:orange  →   output : puboif\n"
   ]
  },
  {
   "cell_type": "code",
   "execution_count": 33,
   "metadata": {},
   "outputs": [
    {
     "name": "stdout",
     "output_type": "stream",
     "text": [
      "puboif\n"
     ]
    }
   ],
   "source": [
    "value = 'orange'\n",
    "var=(chr(ord(value[0])+1))\n",
    "var1=(chr(ord(value[1])+3))\n",
    "var2=(chr(ord(value[2])+1))\n",
    "var3=(chr(ord(value[3])+1))\n",
    "var4=(chr(ord(value[4])+2))\n",
    "var5=(chr(ord(value[5])+1))\n",
    "value=var+var1+var2+var3+var4+var5\n",
    "print(value)"
   ]
  },
  {
   "cell_type": "markdown",
   "metadata": {},
   "source": [
    "Question 7:<br>Accept input as a string and display sum of digits as the output<br>input:Appli123cation456<br>Output: 21\n"
   ]
  },
  {
   "cell_type": "code",
   "execution_count": 28,
   "metadata": {},
   "outputs": [
    {
     "name": "stdout",
     "output_type": "stream",
     "text": [
      "Enter a string: Appli123cation456\n",
      "21\n"
     ]
    }
   ],
   "source": [
    "n=input(\"Enter a string: \")\n",
    "a=[]\n",
    "for i in n:\n",
    "    try:\n",
    "        p=int(i)\n",
    "        a.append(p)\n",
    "    except:\n",
    "        continue\n",
    "print(sum(a))"
   ]
  },
  {
   "cell_type": "markdown",
   "metadata": {},
   "source": [
    "Question 8:\n",
    "Write a program to prompt for a score between 0.0 and 1.0. If the score is out of range, print an error. If the score is between 0.0 and 1.0, print a grade using the following table:\n",
    "Score Grade\n",
    ">= 0.9 A<br>\n",
    ">= 0.8 B<br>\n",
    ">= 0.7 C<br>\n",
    ">= 0.6 D<br>\n",
    "< 0.6 F<br>\n",
    "<br>If the user enters a value out of range, print a suitable error message and exit. For the test, enter a score of 0.85\n"
   ]
  },
  {
   "cell_type": "code",
   "execution_count": 29,
   "metadata": {},
   "outputs": [
    {
     "name": "stdout",
     "output_type": "stream",
     "text": [
      "Enter score: 0.85\n",
      "B\n"
     ]
    }
   ],
   "source": [
    "n=float(input(\"Enter score: \"))\n",
    "if n>1:\n",
    "    print('error')\n",
    "elif n>=0.9:\n",
    "    print('A')\n",
    "elif n>=0.8:\n",
    "    print('B')\n",
    "elif n>=0.7:\n",
    "    print('C')\n",
    "elif n>=0.6:\n",
    "    print('D')\n",
    "elif n<0.6:\n",
    "    print('F')"
   ]
  },
  {
   "cell_type": "markdown",
   "metadata": {},
   "source": [
    "Question 9:\n",
    "Write a Python program which iterates the integers from 1 to 50. For multiples of three print \"Fizz\" instead of the number and for the multiples of five print \"Buzz\". For numbers which are multiples of both three and five print \"FizzBuzz\".\n",
    "<br>Sample Output :\n",
    "<br>fizzbuzz\n",
    "<br>1\n",
    "<br>2\n",
    "<br>fizz\n",
    "<br>4\n",
    "<br>buzz"
   ]
  },
  {
   "cell_type": "code",
   "execution_count": 32,
   "metadata": {},
   "outputs": [
    {
     "name": "stdout",
     "output_type": "stream",
     "text": [
      "fizzbuzz\n",
      "1\n",
      "2\n",
      "fizz\n",
      "4\n",
      "buzz\n"
     ]
    }
   ],
   "source": [
    "for fizzbuzz in range(6):\n",
    "    if fizzbuzz % 3 == 0 and fizzbuzz % 5 == 0:\n",
    "        print(\"fizzbuzz\")\n",
    "        continue\n",
    "    elif fizzbuzz % 3 == 0:\n",
    "        print(\"fizz\")\n",
    "        continue\n",
    "    elif fizzbuzz % 5 == 0:\n",
    "        print(\"buzz\")\n",
    "        continue\n",
    "    print(fizzbuzz)"
   ]
  },
  {
   "cell_type": "markdown",
   "metadata": {},
   "source": [
    "Question 10:\n",
    "Write a Python program to find the median of three values.\n",
    "<br>Expected Output:<br>\n",
    "Input first number: 26<br>Input second number: 15<br>Input third number: 29<br>The median is 26\n"
   ]
  },
  {
   "cell_type": "code",
   "execution_count": 40,
   "metadata": {},
   "outputs": [
    {
     "name": "stdout",
     "output_type": "stream",
     "text": [
      "Input first number: 26\n",
      "Input second number: 15\n",
      "Input third number: 29\n",
      "The median is  26\n"
     ]
    }
   ],
   "source": [
    "a = int(input(\"Input first number: \"))\n",
    "b = int(input(\"Input second number: \"))\n",
    "c = int(input(\"Input third number: \"))\n",
    "\n",
    "if b < a and a < c:\n",
    "    print(\"The median is \",a)\n",
    "elif c < a and a < b:\n",
    "    print(\"The median is \",a)\n",
    "    \n",
    "elif c < b and b < a:\n",
    "    print(\"The median is \",b)\n",
    "elif a < b and b < c:\n",
    "    print(\"The median is \",b)\n",
    "    \n",
    "elif b < c and c < a:\n",
    "    print(c)    \n",
    "elif a < c and c < b:\n",
    "    print(\"The median is \",c)"
   ]
  }
 ],
 "metadata": {
  "kernelspec": {
   "display_name": "Python 3",
   "language": "python",
   "name": "python3"
  },
  "language_info": {
   "codemirror_mode": {
    "name": "ipython",
    "version": 3
   },
   "file_extension": ".py",
   "mimetype": "text/x-python",
   "name": "python",
   "nbconvert_exporter": "python",
   "pygments_lexer": "ipython3",
   "version": "3.7.4"
  }
 },
 "nbformat": 4,
 "nbformat_minor": 2
}
