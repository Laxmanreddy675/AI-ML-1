{
 "cells": [
  {
   "cell_type": "markdown",
   "metadata": {},
   "source": [
    "# Assignment (29-05-20)"
   ]
  },
  {
   "cell_type": "markdown",
   "metadata": {},
   "source": [
    "# CSE-221710305032-M.Sai Srinivas"
   ]
  },
  {
   "cell_type": "markdown",
   "metadata": {},
   "source": [
    "Question 1:<br>Create a function to find Factorial of a number using Recursion"
   ]
  },
  {
   "cell_type": "code",
   "execution_count": 1,
   "metadata": {},
   "outputs": [
    {
     "name": "stdout",
     "output_type": "stream",
     "text": [
      "Enter No.: 5\n",
      "120\n"
     ]
    }
   ],
   "source": [
    "def fact(n):\n",
    "    if n==1:\n",
    "        return 1\n",
    "    return n*fact(n-1)\n",
    "\n",
    "n=int(input(\"Enter No.: \"))\n",
    "print(fact(n))"
   ]
  },
  {
   "cell_type": "markdown",
   "metadata": {},
   "source": [
    "Question 2:<br>Create a function and display ‘n’ Fibonacci numbers using Recursion"
   ]
  },
  {
   "cell_type": "code",
   "execution_count": 53,
   "metadata": {},
   "outputs": [
    {
     "name": "stdout",
     "output_type": "stream",
     "text": [
      "Enter a no.: 5\n",
      "0 1 1 2 3 "
     ]
    }
   ],
   "source": [
    "def fib(n):\n",
    "    if(n==0):\n",
    "        return 0\n",
    "    elif(n==1):\n",
    "        return 1\n",
    "    else:\n",
    "        return (fib(n-1)+fib(n-2))\n",
    "\n",
    "n=int(input(\"Enter a no.: \"))\n",
    "i=0\n",
    "for c in range(n):\n",
    "    print(fib(i),end=\" \")\n",
    "    i+=1"
   ]
  },
  {
   "cell_type": "markdown",
   "metadata": {},
   "source": [
    "Question 3:<br>Print sum of list of elements without using sum() function"
   ]
  },
  {
   "cell_type": "code",
   "execution_count": 8,
   "metadata": {},
   "outputs": [
    {
     "name": "stdout",
     "output_type": "stream",
     "text": [
      "Enter a list: 1 2 3 4\n",
      "10\n"
     ]
    }
   ],
   "source": [
    "def add(a):\n",
    "    s=0\n",
    "    for i in a:\n",
    "        s+=int(i)\n",
    "    return s\n",
    "\n",
    "a=input(\"Enter a list: \").split()\n",
    "print(add(a))"
   ]
  },
  {
   "cell_type": "markdown",
   "metadata": {},
   "source": [
    "Question 4:<br>print only even numbers from the list"
   ]
  },
  {
   "cell_type": "code",
   "execution_count": 11,
   "metadata": {},
   "outputs": [
    {
     "name": "stdout",
     "output_type": "stream",
     "text": [
      "Enter a list: 1 2 3 4 5 6 7 8 9\n",
      "2\n",
      "4\n",
      "6\n",
      "8\n"
     ]
    }
   ],
   "source": [
    "def even(a):\n",
    "    for i in a:\n",
    "        if(int(i)%2==0):\n",
    "            print(int(i))\n",
    "\n",
    "a=input(\"Enter a list: \").split()\n",
    "even(a)"
   ]
  },
  {
   "cell_type": "markdown",
   "metadata": {},
   "source": [
    "Question 5:<br>Write a Python program to get the smallest number from a list and display index of smallest element of the list\n"
   ]
  },
  {
   "cell_type": "code",
   "execution_count": 16,
   "metadata": {},
   "outputs": [
    {
     "name": "stdout",
     "output_type": "stream",
     "text": [
      "Enter a list: 56 1531 2 5 36 0 58\n",
      "Smallest no.: 0 Smallest no. index: 5\n"
     ]
    }
   ],
   "source": [
    "a=input(\"Enter a list: \").split()\n",
    "mi=min(a)\n",
    "print(\"Smallest no.:\",mi,\"Smallest no. index:\",a.index(mi))"
   ]
  },
  {
   "cell_type": "markdown",
   "metadata": {},
   "source": [
    "Question 6:<br>Write a Python function that checks whether a passed string is palindrome or not."
   ]
  },
  {
   "cell_type": "code",
   "execution_count": 22,
   "metadata": {},
   "outputs": [
    {
     "name": "stdout",
     "output_type": "stream",
     "text": [
      "Enter String: amma\n",
      "palindrome\n"
     ]
    }
   ],
   "source": [
    "a=input(\"Enter String: \")\n",
    "if a==a[::-1] :\n",
    "    print(\"palindrome\")\n",
    "else:\n",
    "    print(\"Not a palindrome\")"
   ]
  },
  {
   "cell_type": "markdown",
   "metadata": {},
   "source": [
    "Question 7:<br>Write a Python program to count the number of even and odd numbers from a series of numbers.<br>Sample numbers : numbers = [1, 2, 3, 4, 5, 6, 7, 8, 9]<br>Expected Output :<br>Number of even numbers : 4<br>Number of odd numbers : 5"
   ]
  },
  {
   "cell_type": "code",
   "execution_count": 24,
   "metadata": {},
   "outputs": [
    {
     "name": "stdout",
     "output_type": "stream",
     "text": [
      "Enter a list: 1 2 3 4 5 6 7 8 9\n",
      "Number of even numbers : 4 \n",
      "Number of odd numbers : 5\n"
     ]
    }
   ],
   "source": [
    "def ev_od_co(a):\n",
    "    ec=0\n",
    "    oc=0\n",
    "    for i in a:\n",
    "        if(int(i)%2==0):\n",
    "            ec+=1\n",
    "        else:\n",
    "            oc+=1\n",
    "    return ec,oc\n",
    "\n",
    "\n",
    "a=input(\"Enter a list: \").split()\n",
    "ec,oc=ev_od_co(a)\n",
    "print(\"Number of even numbers :\",ec,\"\\nNumber of odd numbers :\",oc)"
   ]
  },
  {
   "cell_type": "markdown",
   "metadata": {},
   "source": [
    "Question 8:<br>Write a Python program that prints all the numbers from 0 to 6 except 3 and 6.<br>Note : Use 'continue' statement.<br>Expected Output : 0 1 2 4 5"
   ]
  },
  {
   "cell_type": "code",
   "execution_count": 31,
   "metadata": {},
   "outputs": [
    {
     "name": "stdout",
     "output_type": "stream",
     "text": [
      "0 1 2 4 5 "
     ]
    }
   ],
   "source": [
    "for i in range(7):\n",
    "    if(i==3 or i==6):\n",
    "        continue\n",
    "    else:\n",
    "        print(i,end=\" \")"
   ]
  },
  {
   "cell_type": "markdown",
   "metadata": {},
   "source": [
    "Question 9:<br>Write a python function to check whether the given number is prime or not"
   ]
  },
  {
   "cell_type": "code",
   "execution_count": 43,
   "metadata": {},
   "outputs": [
    {
     "name": "stdout",
     "output_type": "stream",
     "text": [
      "Enter a no.: 11\n",
      "11 is prime number\n"
     ]
    }
   ],
   "source": [
    "def primeno(a):\n",
    "    f=0\n",
    "    for i in (range(2,a//2)):\n",
    "        if a%i==0:\n",
    "            f+=1\n",
    "            return False\n",
    "    return True\n",
    "\n",
    "a=int(input(\"Enter a no.: \"))\n",
    "if primeno(a):\n",
    "    print(a,\"is prime number\")\n",
    "else:\n",
    "    print(a,\"is not a prime number\")"
   ]
  },
  {
   "cell_type": "markdown",
   "metadata": {},
   "source": [
    "Question 10:<br>Write a python function to check whether the given number is Adam number or not<br>Example:<br>Input : 12<br>Output : Adam Number<br>\n",
    "Explanation: 12 * 12 = 144<br>Reverse of 12 is 21 → 21 * 21 =441<br>Reverse of 144 == 441"
   ]
  },
  {
   "cell_type": "code",
   "execution_count": 49,
   "metadata": {},
   "outputs": [
    {
     "name": "stdout",
     "output_type": "stream",
     "text": [
      "Enter a No.: 12\n",
      "Adam Number\n"
     ]
    }
   ],
   "source": [
    "def rev(n):\n",
    "    re=0\n",
    "    while(n>0):\n",
    "        re=(re*10)+(n%10)\n",
    "        n=n/10\n",
    "    return re\n",
    "\n",
    "def adno(n):\n",
    "    m=n*n\n",
    "    m1=rev(m)\n",
    "    r=rev(n)\n",
    "    mrev=r*r\n",
    "    if m1==mrev:\n",
    "        print(\"Adam Number\")\n",
    "    else:\n",
    "        print(\"Not a Adam Number\")\n",
    "\n",
    "\n",
    "n=int(input(\"Enter a No.: \"))\n",
    "adno(n)"
   ]
  }
 ],
 "metadata": {
  "kernelspec": {
   "display_name": "Python 3",
   "language": "python",
   "name": "python3"
  },
  "language_info": {
   "codemirror_mode": {
    "name": "ipython",
    "version": 3
   },
   "file_extension": ".py",
   "mimetype": "text/x-python",
   "name": "python",
   "nbconvert_exporter": "python",
   "pygments_lexer": "ipython3",
   "version": "3.7.4"
  }
 },
 "nbformat": 4,
 "nbformat_minor": 2
}
